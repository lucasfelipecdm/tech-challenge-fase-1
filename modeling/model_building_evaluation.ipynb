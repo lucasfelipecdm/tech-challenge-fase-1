{
  "nbformat": 4,
  "nbformat_minor": 0,
  "metadata": {
    "colab": {
      "provenance": [],
      "authorship_tag": "ABX9TyPLu4xwSyEFyrrWkTfSaoWx",
      "include_colab_link": true
    },
    "kernelspec": {
      "name": "python3",
      "display_name": "Python 3"
    },
    "language_info": {
      "name": "python"
    }
  },
  "cells": [
    {
      "cell_type": "markdown",
      "metadata": {
        "id": "view-in-github",
        "colab_type": "text"
      },
      "source": [
        "<a href=\"https://colab.research.google.com/github/lucasfelipecdm/tech-challenge-fase-1/blob/develop/modeling/model_building_evaluation.ipynb\" target=\"_parent\"><img src=\"https://colab.research.google.com/assets/colab-badge.svg\" alt=\"Open In Colab\"/></a>"
      ]
    },
    {
      "cell_type": "markdown",
      "source": [
        "# Treinamento e validação do modelo\n",
        "\n",
        "Nessa fase faremos o treinamento do nosso modelo utilizando a [tabela pré-processada](https://raw.githubusercontent.com/lucasfelipecdm/tech-challenge-fase-1/develop/data/dataset_preprocessed.csv) durante nossa última [fase](https://github.com/lucasfelipecdm/tech-challenge-fase-1/blob/develop/preprocessing/data_preprocessing.ipynb) começaremos pela separação da base pré-processada em base de treino e teste."
      ],
      "metadata": {
        "id": "Jye3xa6JHfkP"
      }
    },
    {
      "cell_type": "code",
      "execution_count": 232,
      "metadata": {
        "colab": {
          "base_uri": "https://localhost:8080/",
          "height": 223
        },
        "id": "7xh9b_qHHFbw",
        "outputId": "d6336c58-d3f4-4dd7-a2e2-8bb746a3de4e"
      },
      "outputs": [
        {
          "output_type": "execute_result",
          "data": {
            "text/plain": [
              "   age  sex     bmi  children  smoker      charges\n",
              "0   19    0  27.900         0       1  16884.92400\n",
              "1   18    1  33.770         1       0   1725.55230\n",
              "2   28    1  33.000         3       0   4449.46200\n",
              "3   33    1  22.705         0       0  21984.47061\n",
              "4   32    1  28.880         0       0   3866.85520"
            ],
            "text/html": [
              "\n",
              "  <div id=\"df-00d55357-322d-46e9-be50-05377c66d87d\" class=\"colab-df-container\">\n",
              "    <div>\n",
              "<style scoped>\n",
              "    .dataframe tbody tr th:only-of-type {\n",
              "        vertical-align: middle;\n",
              "    }\n",
              "\n",
              "    .dataframe tbody tr th {\n",
              "        vertical-align: top;\n",
              "    }\n",
              "\n",
              "    .dataframe thead th {\n",
              "        text-align: right;\n",
              "    }\n",
              "</style>\n",
              "<table border=\"1\" class=\"dataframe\">\n",
              "  <thead>\n",
              "    <tr style=\"text-align: right;\">\n",
              "      <th></th>\n",
              "      <th>age</th>\n",
              "      <th>sex</th>\n",
              "      <th>bmi</th>\n",
              "      <th>children</th>\n",
              "      <th>smoker</th>\n",
              "      <th>charges</th>\n",
              "    </tr>\n",
              "  </thead>\n",
              "  <tbody>\n",
              "    <tr>\n",
              "      <th>0</th>\n",
              "      <td>19</td>\n",
              "      <td>0</td>\n",
              "      <td>27.900</td>\n",
              "      <td>0</td>\n",
              "      <td>1</td>\n",
              "      <td>16884.92400</td>\n",
              "    </tr>\n",
              "    <tr>\n",
              "      <th>1</th>\n",
              "      <td>18</td>\n",
              "      <td>1</td>\n",
              "      <td>33.770</td>\n",
              "      <td>1</td>\n",
              "      <td>0</td>\n",
              "      <td>1725.55230</td>\n",
              "    </tr>\n",
              "    <tr>\n",
              "      <th>2</th>\n",
              "      <td>28</td>\n",
              "      <td>1</td>\n",
              "      <td>33.000</td>\n",
              "      <td>3</td>\n",
              "      <td>0</td>\n",
              "      <td>4449.46200</td>\n",
              "    </tr>\n",
              "    <tr>\n",
              "      <th>3</th>\n",
              "      <td>33</td>\n",
              "      <td>1</td>\n",
              "      <td>22.705</td>\n",
              "      <td>0</td>\n",
              "      <td>0</td>\n",
              "      <td>21984.47061</td>\n",
              "    </tr>\n",
              "    <tr>\n",
              "      <th>4</th>\n",
              "      <td>32</td>\n",
              "      <td>1</td>\n",
              "      <td>28.880</td>\n",
              "      <td>0</td>\n",
              "      <td>0</td>\n",
              "      <td>3866.85520</td>\n",
              "    </tr>\n",
              "  </tbody>\n",
              "</table>\n",
              "</div>\n",
              "    <div class=\"colab-df-buttons\">\n",
              "\n",
              "  <div class=\"colab-df-container\">\n",
              "    <button class=\"colab-df-convert\" onclick=\"convertToInteractive('df-00d55357-322d-46e9-be50-05377c66d87d')\"\n",
              "            title=\"Convert this dataframe to an interactive table.\"\n",
              "            style=\"display:none;\">\n",
              "\n",
              "  <svg xmlns=\"http://www.w3.org/2000/svg\" height=\"24px\" viewBox=\"0 -960 960 960\">\n",
              "    <path d=\"M120-120v-720h720v720H120Zm60-500h600v-160H180v160Zm220 220h160v-160H400v160Zm0 220h160v-160H400v160ZM180-400h160v-160H180v160Zm440 0h160v-160H620v160ZM180-180h160v-160H180v160Zm440 0h160v-160H620v160Z\"/>\n",
              "  </svg>\n",
              "    </button>\n",
              "\n",
              "  <style>\n",
              "    .colab-df-container {\n",
              "      display:flex;\n",
              "      gap: 12px;\n",
              "    }\n",
              "\n",
              "    .colab-df-convert {\n",
              "      background-color: #E8F0FE;\n",
              "      border: none;\n",
              "      border-radius: 50%;\n",
              "      cursor: pointer;\n",
              "      display: none;\n",
              "      fill: #1967D2;\n",
              "      height: 32px;\n",
              "      padding: 0 0 0 0;\n",
              "      width: 32px;\n",
              "    }\n",
              "\n",
              "    .colab-df-convert:hover {\n",
              "      background-color: #E2EBFA;\n",
              "      box-shadow: 0px 1px 2px rgba(60, 64, 67, 0.3), 0px 1px 3px 1px rgba(60, 64, 67, 0.15);\n",
              "      fill: #174EA6;\n",
              "    }\n",
              "\n",
              "    .colab-df-buttons div {\n",
              "      margin-bottom: 4px;\n",
              "    }\n",
              "\n",
              "    [theme=dark] .colab-df-convert {\n",
              "      background-color: #3B4455;\n",
              "      fill: #D2E3FC;\n",
              "    }\n",
              "\n",
              "    [theme=dark] .colab-df-convert:hover {\n",
              "      background-color: #434B5C;\n",
              "      box-shadow: 0px 1px 3px 1px rgba(0, 0, 0, 0.15);\n",
              "      filter: drop-shadow(0px 1px 2px rgba(0, 0, 0, 0.3));\n",
              "      fill: #FFFFFF;\n",
              "    }\n",
              "  </style>\n",
              "\n",
              "    <script>\n",
              "      const buttonEl =\n",
              "        document.querySelector('#df-00d55357-322d-46e9-be50-05377c66d87d button.colab-df-convert');\n",
              "      buttonEl.style.display =\n",
              "        google.colab.kernel.accessAllowed ? 'block' : 'none';\n",
              "\n",
              "      async function convertToInteractive(key) {\n",
              "        const element = document.querySelector('#df-00d55357-322d-46e9-be50-05377c66d87d');\n",
              "        const dataTable =\n",
              "          await google.colab.kernel.invokeFunction('convertToInteractive',\n",
              "                                                    [key], {});\n",
              "        if (!dataTable) return;\n",
              "\n",
              "        const docLinkHtml = 'Like what you see? Visit the ' +\n",
              "          '<a target=\"_blank\" href=https://colab.research.google.com/notebooks/data_table.ipynb>data table notebook</a>'\n",
              "          + ' to learn more about interactive tables.';\n",
              "        element.innerHTML = '';\n",
              "        dataTable['output_type'] = 'display_data';\n",
              "        await google.colab.output.renderOutput(dataTable, element);\n",
              "        const docLink = document.createElement('div');\n",
              "        docLink.innerHTML = docLinkHtml;\n",
              "        element.appendChild(docLink);\n",
              "      }\n",
              "    </script>\n",
              "  </div>\n",
              "\n",
              "\n",
              "<div id=\"df-cb189f75-6af0-4334-9015-17688b2255e9\">\n",
              "  <button class=\"colab-df-quickchart\" onclick=\"quickchart('df-cb189f75-6af0-4334-9015-17688b2255e9')\"\n",
              "            title=\"Suggest charts\"\n",
              "            style=\"display:none;\">\n",
              "\n",
              "<svg xmlns=\"http://www.w3.org/2000/svg\" height=\"24px\"viewBox=\"0 0 24 24\"\n",
              "     width=\"24px\">\n",
              "    <g>\n",
              "        <path d=\"M19 3H5c-1.1 0-2 .9-2 2v14c0 1.1.9 2 2 2h14c1.1 0 2-.9 2-2V5c0-1.1-.9-2-2-2zM9 17H7v-7h2v7zm4 0h-2V7h2v10zm4 0h-2v-4h2v4z\"/>\n",
              "    </g>\n",
              "</svg>\n",
              "  </button>\n",
              "\n",
              "<style>\n",
              "  .colab-df-quickchart {\n",
              "      --bg-color: #E8F0FE;\n",
              "      --fill-color: #1967D2;\n",
              "      --hover-bg-color: #E2EBFA;\n",
              "      --hover-fill-color: #174EA6;\n",
              "      --disabled-fill-color: #AAA;\n",
              "      --disabled-bg-color: #DDD;\n",
              "  }\n",
              "\n",
              "  [theme=dark] .colab-df-quickchart {\n",
              "      --bg-color: #3B4455;\n",
              "      --fill-color: #D2E3FC;\n",
              "      --hover-bg-color: #434B5C;\n",
              "      --hover-fill-color: #FFFFFF;\n",
              "      --disabled-bg-color: #3B4455;\n",
              "      --disabled-fill-color: #666;\n",
              "  }\n",
              "\n",
              "  .colab-df-quickchart {\n",
              "    background-color: var(--bg-color);\n",
              "    border: none;\n",
              "    border-radius: 50%;\n",
              "    cursor: pointer;\n",
              "    display: none;\n",
              "    fill: var(--fill-color);\n",
              "    height: 32px;\n",
              "    padding: 0;\n",
              "    width: 32px;\n",
              "  }\n",
              "\n",
              "  .colab-df-quickchart:hover {\n",
              "    background-color: var(--hover-bg-color);\n",
              "    box-shadow: 0 1px 2px rgba(60, 64, 67, 0.3), 0 1px 3px 1px rgba(60, 64, 67, 0.15);\n",
              "    fill: var(--button-hover-fill-color);\n",
              "  }\n",
              "\n",
              "  .colab-df-quickchart-complete:disabled,\n",
              "  .colab-df-quickchart-complete:disabled:hover {\n",
              "    background-color: var(--disabled-bg-color);\n",
              "    fill: var(--disabled-fill-color);\n",
              "    box-shadow: none;\n",
              "  }\n",
              "\n",
              "  .colab-df-spinner {\n",
              "    border: 2px solid var(--fill-color);\n",
              "    border-color: transparent;\n",
              "    border-bottom-color: var(--fill-color);\n",
              "    animation:\n",
              "      spin 1s steps(1) infinite;\n",
              "  }\n",
              "\n",
              "  @keyframes spin {\n",
              "    0% {\n",
              "      border-color: transparent;\n",
              "      border-bottom-color: var(--fill-color);\n",
              "      border-left-color: var(--fill-color);\n",
              "    }\n",
              "    20% {\n",
              "      border-color: transparent;\n",
              "      border-left-color: var(--fill-color);\n",
              "      border-top-color: var(--fill-color);\n",
              "    }\n",
              "    30% {\n",
              "      border-color: transparent;\n",
              "      border-left-color: var(--fill-color);\n",
              "      border-top-color: var(--fill-color);\n",
              "      border-right-color: var(--fill-color);\n",
              "    }\n",
              "    40% {\n",
              "      border-color: transparent;\n",
              "      border-right-color: var(--fill-color);\n",
              "      border-top-color: var(--fill-color);\n",
              "    }\n",
              "    60% {\n",
              "      border-color: transparent;\n",
              "      border-right-color: var(--fill-color);\n",
              "    }\n",
              "    80% {\n",
              "      border-color: transparent;\n",
              "      border-right-color: var(--fill-color);\n",
              "      border-bottom-color: var(--fill-color);\n",
              "    }\n",
              "    90% {\n",
              "      border-color: transparent;\n",
              "      border-bottom-color: var(--fill-color);\n",
              "    }\n",
              "  }\n",
              "</style>\n",
              "\n",
              "  <script>\n",
              "    async function quickchart(key) {\n",
              "      const quickchartButtonEl =\n",
              "        document.querySelector('#' + key + ' button');\n",
              "      quickchartButtonEl.disabled = true;  // To prevent multiple clicks.\n",
              "      quickchartButtonEl.classList.add('colab-df-spinner');\n",
              "      try {\n",
              "        const charts = await google.colab.kernel.invokeFunction(\n",
              "            'suggestCharts', [key], {});\n",
              "      } catch (error) {\n",
              "        console.error('Error during call to suggestCharts:', error);\n",
              "      }\n",
              "      quickchartButtonEl.classList.remove('colab-df-spinner');\n",
              "      quickchartButtonEl.classList.add('colab-df-quickchart-complete');\n",
              "    }\n",
              "    (() => {\n",
              "      let quickchartButtonEl =\n",
              "        document.querySelector('#df-cb189f75-6af0-4334-9015-17688b2255e9 button');\n",
              "      quickchartButtonEl.style.display =\n",
              "        google.colab.kernel.accessAllowed ? 'block' : 'none';\n",
              "    })();\n",
              "  </script>\n",
              "</div>\n",
              "\n",
              "    </div>\n",
              "  </div>\n"
            ],
            "application/vnd.google.colaboratory.intrinsic+json": {
              "type": "dataframe",
              "variable_name": "dataset_preprocessed",
              "summary": "{\n  \"name\": \"dataset_preprocessed\",\n  \"rows\": 1338,\n  \"fields\": [\n    {\n      \"column\": \"age\",\n      \"properties\": {\n        \"dtype\": \"number\",\n        \"std\": 14,\n        \"min\": 18,\n        \"max\": 64,\n        \"num_unique_values\": 47,\n        \"samples\": [\n          21,\n          45,\n          36\n        ],\n        \"semantic_type\": \"\",\n        \"description\": \"\"\n      }\n    },\n    {\n      \"column\": \"sex\",\n      \"properties\": {\n        \"dtype\": \"number\",\n        \"std\": 0,\n        \"min\": 0,\n        \"max\": 1,\n        \"num_unique_values\": 2,\n        \"samples\": [\n          1,\n          0\n        ],\n        \"semantic_type\": \"\",\n        \"description\": \"\"\n      }\n    },\n    {\n      \"column\": \"bmi\",\n      \"properties\": {\n        \"dtype\": \"number\",\n        \"std\": 6.056925736858173,\n        \"min\": 15.96,\n        \"max\": 47.290000000000006,\n        \"num_unique_values\": 540,\n        \"samples\": [\n          33.33,\n          27.4\n        ],\n        \"semantic_type\": \"\",\n        \"description\": \"\"\n      }\n    },\n    {\n      \"column\": \"children\",\n      \"properties\": {\n        \"dtype\": \"number\",\n        \"std\": 1,\n        \"min\": 0,\n        \"max\": 5,\n        \"num_unique_values\": 6,\n        \"samples\": [\n          0,\n          1\n        ],\n        \"semantic_type\": \"\",\n        \"description\": \"\"\n      }\n    },\n    {\n      \"column\": \"smoker\",\n      \"properties\": {\n        \"dtype\": \"number\",\n        \"std\": 0,\n        \"min\": 0,\n        \"max\": 1,\n        \"num_unique_values\": 2,\n        \"samples\": [\n          0,\n          1\n        ],\n        \"semantic_type\": \"\",\n        \"description\": \"\"\n      }\n    },\n    {\n      \"column\": \"charges\",\n      \"properties\": {\n        \"dtype\": \"number\",\n        \"std\": 10158.056095543801,\n        \"min\": 1121.8739,\n        \"max\": 34489.3505625,\n        \"num_unique_values\": 1199,\n        \"samples\": [\n          11272.33139,\n          4746.344\n        ],\n        \"semantic_type\": \"\",\n        \"description\": \"\"\n      }\n    }\n  ]\n}"
            }
          },
          "metadata": {},
          "execution_count": 232
        },
        {
          "output_type": "display_data",
          "data": {
            "text/plain": [
              "<Figure size 1000x500 with 0 Axes>"
            ]
          },
          "metadata": {}
        }
      ],
      "source": [
        "import matplotlib as mpl\n",
        "import matplotlib.pyplot as plt\n",
        "%matplotlib inline\n",
        "\n",
        "import seaborn as sns\n",
        "import pandas as pd\n",
        "import numpy as np\n",
        "import plotly.express as px\n",
        "import os\n",
        "\n",
        "import warnings\n",
        "warnings.filterwarnings(\"ignore\")\n",
        "\n",
        "np.random.seed(42)\n",
        "mpl.rc('axes', labelsize=12)\n",
        "mpl.rc('xtick', labelsize=10)\n",
        "mpl.rc('ytick', labelsize=10)\n",
        "plt.figure(figsize=(10,5))\n",
        "\n",
        "preprocessed_dataset_url = \"https://raw.githubusercontent.com/lucasfelipecdm/tech-challenge-fase-1/develop/data/preprocessed.csv\"\n",
        "dataset_preprocessed = pd.read_csv(preprocessed_dataset_url)\n",
        "dataset_preprocessed.drop(['lines'], axis = 1, inplace = True)\n",
        "dataset_preprocessed.head(5)"
      ]
    },
    {
      "cell_type": "code",
      "source": [
        "dataset_preprocessed.info()"
      ],
      "metadata": {
        "colab": {
          "base_uri": "https://localhost:8080/"
        },
        "id": "MsYMdSJxLK83",
        "outputId": "760e5525-2dce-45b6-80cd-a12e1e459b69"
      },
      "execution_count": 233,
      "outputs": [
        {
          "output_type": "stream",
          "name": "stdout",
          "text": [
            "<class 'pandas.core.frame.DataFrame'>\n",
            "RangeIndex: 1338 entries, 0 to 1337\n",
            "Data columns (total 6 columns):\n",
            " #   Column    Non-Null Count  Dtype  \n",
            "---  ------    --------------  -----  \n",
            " 0   age       1338 non-null   int64  \n",
            " 1   sex       1338 non-null   int64  \n",
            " 2   bmi       1338 non-null   float64\n",
            " 3   children  1338 non-null   int64  \n",
            " 4   smoker    1338 non-null   int64  \n",
            " 5   charges   1338 non-null   float64\n",
            "dtypes: float64(2), int64(4)\n",
            "memory usage: 62.8 KB\n"
          ]
        }
      ]
    },
    {
      "cell_type": "markdown",
      "source": [
        "### Separação das tabelas e remoção da coluna target\n",
        "\n",
        "Nesse passo vamos separar em tabelas X e y nossa variavel target e nossa tabela com as outras variáveis"
      ],
      "metadata": {
        "id": "UGPV_iIkIt1r"
      }
    },
    {
      "cell_type": "code",
      "source": [
        "X = dataset_preprocessed.drop(\"charges\", axis = 1)\n",
        "y = dataset_preprocessed.charges"
      ],
      "metadata": {
        "id": "vKfzS1ACIo6s"
      },
      "execution_count": 234,
      "outputs": []
    },
    {
      "cell_type": "markdown",
      "source": [
        "#### Separação entre treino e teste\n",
        "\n",
        "Aqui usamos o metódo `train_test_split` do sklearn para separarmos nossas base de dados em tabelas de treino e teste."
      ],
      "metadata": {
        "id": "6ygthpiyJU11"
      }
    },
    {
      "cell_type": "code",
      "source": [
        "from sklearn.model_selection import train_test_split, RandomizedSearchCV\n",
        "X_train, X_test, y_train, y_test = train_test_split(X, y, test_size=0.30, random_state=42)"
      ],
      "metadata": {
        "id": "HhIbdoulJMhE"
      },
      "execution_count": 235,
      "outputs": []
    },
    {
      "cell_type": "markdown",
      "source": [
        "#### Feature Scaling ( Normalização e Padronização dos dados )\n",
        "\n",
        "Aqui utilizaremos um metódo também do sklearn para padronização dos dados deixando eles em uma mesma escala para que valores com maior peso não tenha impacto e crie viés em nosso modelo."
      ],
      "metadata": {
        "id": "9MN9jtAfJTcK"
      }
    },
    {
      "cell_type": "code",
      "source": [
        "from sklearn.preprocessing import StandardScaler\n",
        "standard_scaler = StandardScaler()\n",
        "X_train = standard_scaler.fit_transform(X_train)\n",
        "X_train"
      ],
      "metadata": {
        "colab": {
          "base_uri": "https://localhost:8080/"
        },
        "id": "CfyJe2mrKAy9",
        "outputId": "185fc645-c513-4ca5-ebc0-f53cfa8311de"
      },
      "execution_count": 236,
      "outputs": [
        {
          "output_type": "execute_result",
          "data": {
            "text/plain": [
              "array([[ 1.54446486, -1.02597835,  0.10596012, -0.91501097, -0.51298918],\n",
              "       [ 0.48187425,  0.97467943, -0.49198238, -0.91501097, -0.51298918],\n",
              "       [ 1.04858924, -1.02597835,  0.23025154,  1.56027883, -0.51298918],\n",
              "       ...,\n",
              "       [ 1.33194673,  0.97467943, -0.89928872, -0.91501097, -0.51298918],\n",
              "       [-0.15568012, -1.02597835,  2.81517714,  0.73518223,  1.94935887],\n",
              "       [ 1.11942861,  0.97467943, -0.10567121, -0.91501097, -0.51298918]])"
            ]
          },
          "metadata": {},
          "execution_count": 236
        }
      ]
    },
    {
      "cell_type": "markdown",
      "source": [
        "Apenas aplicaremos o `.fit_transform` na base de treinamento e não na base de teste."
      ],
      "metadata": {
        "id": "dDhMgek8PPrA"
      }
    },
    {
      "cell_type": "code",
      "source": [
        "X_test = standard_scaler.transform(X_test)\n",
        "X_test"
      ],
      "metadata": {
        "colab": {
          "base_uri": "https://localhost:8080/"
        },
        "id": "VjFqMab_QOL2",
        "outputId": "d8a709ae-4194-4e5e-a95a-8c8968fbe16e"
      },
      "execution_count": 237,
      "outputs": [
        {
          "output_type": "execute_result",
          "data": {
            "text/plain": [
              "array([[ 0.41103487, -1.02597835, -0.89928872,  0.73518223, -0.51298918],\n",
              "       [-0.22651949, -1.02597835, -0.08551585, -0.91501097, -0.51298918],\n",
              "       [ 1.75698298, -1.02597835, -0.61207477, -0.91501097,  1.94935887],\n",
              "       ...,\n",
              "       [-1.50162823, -1.02597835, -0.38868613, -0.91501097, -0.51298918],\n",
              "       [ 1.33194673,  0.97467943,  0.9323301 , -0.91501097, -0.51298918],\n",
              "       [-1.35994948,  0.97467943, -1.4325661 , -0.08991437, -0.51298918]])"
            ]
          },
          "metadata": {},
          "execution_count": 237
        }
      ]
    },
    {
      "cell_type": "markdown",
      "source": [
        "### Criação do modelo\n",
        "\n",
        "Agora criaremos o modelo e testaremos alguns tipos de regressão, para ser mais exato utilizaremos 5 tipos de regressão, sendo elas: Multi Linear, Floresta Aleatória, Árvore de decisão, XG Boost e Aumento Gradiente:"
      ],
      "metadata": {
        "id": "2xkaCLxaQcUk"
      }
    },
    {
      "cell_type": "code",
      "source": [
        "from sklearn.linear_model import LinearRegression\n",
        "from sklearn.ensemble import RandomForestRegressor, GradientBoostingRegressor\n",
        "from sklearn.tree import DecisionTreeRegressor\n",
        "import xgboost as xgb\n"
      ],
      "metadata": {
        "id": "OM0xX3BjQS7t"
      },
      "execution_count": 238,
      "outputs": []
    },
    {
      "cell_type": "markdown",
      "source": [
        "Também importaremos alguns metódos que nos ajudaram na avaliação dos resultados do modelo."
      ],
      "metadata": {
        "id": "UpQuZ7LMRpse"
      }
    },
    {
      "cell_type": "code",
      "source": [
        "from sklearn import metrics\n",
        "from sklearn.metrics import mean_absolute_error, mean_squared_error, r2_score\n",
        "from math import sqrt"
      ],
      "metadata": {
        "id": "IJDnQZcZRPdd"
      },
      "execution_count": 239,
      "outputs": []
    },
    {
      "cell_type": "markdown",
      "source": [
        "Adicionaremos uma função para calculo do MAPE ( Mean Absolute Percentage Error )"
      ],
      "metadata": {
        "id": "Kg6yn2t2ihpF"
      }
    },
    {
      "cell_type": "code",
      "source": [
        "def calculate_mape(real, pred):\n",
        "    errors = np.abs(real - pred)\n",
        "    relative_errors = errors / np.abs(real)\n",
        "    mape = np.mean(relative_errors) * 100\n",
        "    return mape"
      ],
      "metadata": {
        "id": "dvhZMXk2iaa3"
      },
      "execution_count": 240,
      "outputs": []
    },
    {
      "cell_type": "markdown",
      "source": [
        "Vamos criar um dicionário para salvar os resultados de cada tipo de regressão"
      ],
      "metadata": {
        "id": "ZJC51vnSS11Z"
      }
    },
    {
      "cell_type": "code",
      "source": [
        "from collections import OrderedDict\n",
        "model_rmse = OrderedDict()\n",
        "model_r2 = OrderedDict()\n",
        "model_mape = OrderedDict()"
      ],
      "metadata": {
        "id": "CmSZIE1ZS6ps"
      },
      "execution_count": 241,
      "outputs": []
    },
    {
      "cell_type": "markdown",
      "source": [
        "#### Regressão Multi Linear"
      ],
      "metadata": {
        "id": "ocvl0Y8GSEOi"
      }
    },
    {
      "cell_type": "code",
      "source": [
        "linear_regressor = LinearRegression()\n",
        "linear_regressor.fit(X_train, y_train)\n",
        "\n",
        "y_pred = linear_regressor.predict(X_test)\n",
        "\n",
        "mse = mean_squared_error(y_test, y_pred)\n",
        "rmse = np.sqrt(mse)\n",
        "r2_value = r2_score(y_test, y_pred)\n",
        "mape = calculate_mape(y_test, y_pred)\n",
        "\n",
        "model_rmse['Multi Linear Regression'] = round(rmse, 3)\n",
        "model_r2['Multi Linear Regression'] = round(r2_value, 3)\n",
        "model_mape['Multi Linear Regression'] = round(mape, 3)"
      ],
      "metadata": {
        "id": "bhLYStRySLJn"
      },
      "execution_count": 242,
      "outputs": []
    },
    {
      "cell_type": "markdown",
      "source": [
        "#### Regressão por Árvore de Decisão"
      ],
      "metadata": {
        "id": "jalMUpWoX6Ko"
      }
    },
    {
      "cell_type": "code",
      "source": [
        "decision_tree_regressor = DecisionTreeRegressor()\n",
        "decision_tree_regressor.fit(X_train, y_train)\n",
        "\n",
        "y_pred = decision_tree_regressor.predict(X_test)\n",
        "\n",
        "mse = mean_squared_error(y_test, y_pred)\n",
        "rmse = np.sqrt(mse)\n",
        "r2_value = r2_score(y_test, y_pred)\n",
        "mape = calculate_mape(y_test, y_pred)\n",
        "\n",
        "model_rmse['Decision Tree Regression'] = round(rmse, 3)\n",
        "model_r2['Decision Tree Regression'] = round(r2_value, 3)\n",
        "model_mape['Decision Tree Regression'] = round(mape, 3)"
      ],
      "metadata": {
        "id": "evDTeAdxTZO-"
      },
      "execution_count": 243,
      "outputs": []
    },
    {
      "cell_type": "markdown",
      "source": [
        "#### Regressão por Floresta Aleatória"
      ],
      "metadata": {
        "id": "i9k_dh_nYQ6C"
      }
    },
    {
      "cell_type": "code",
      "source": [
        "random_forest_regressor = RandomForestRegressor(n_estimators = 1000, random_state = 27)\n",
        "random_forest_regressor.fit(X_train, y_train)\n",
        "\n",
        "y_pred = random_forest_regressor.predict(X_test)\n",
        "\n",
        "mse = mean_squared_error(y_test, y_pred)\n",
        "rmse = np.sqrt(mse)\n",
        "r2_value = r2_score(y_test, y_pred)\n",
        "mape = calculate_mape(y_test, y_pred)\n",
        "\n",
        "model_rmse['Random Forest Regression'] = round(rmse, 3)\n",
        "model_r2['Random Forest Regression'] = round(r2_value, 3)\n",
        "model_mape['Random Forest Regression'] = round(mape, 3)"
      ],
      "metadata": {
        "id": "E-L3FvLLTw8M"
      },
      "execution_count": 244,
      "outputs": []
    },
    {
      "cell_type": "markdown",
      "source": [
        "#### Regressão XGBoost"
      ],
      "metadata": {
        "id": "YyjJfYFkYeZg"
      }
    },
    {
      "cell_type": "code",
      "source": [
        "xgb_regressor = xgb.XGBRegressor()\n",
        "xgb_regressor.fit(X_train, y_train)\n",
        "\n",
        "y_pred = xgb_regressor.predict(X_test)\n",
        "\n",
        "mse = mean_squared_error(y_test, y_pred)\n",
        "rmse = np.sqrt(mse)\n",
        "r2_value = r2_score(y_test, y_pred)\n",
        "mape = calculate_mape(y_test, y_pred)\n",
        "\n",
        "model_rmse['XGBoost Regression'] = round(rmse, 3)\n",
        "model_r2['XGBoost Regression'] = round(r2_value, 3)\n",
        "model_mape['XGBoost Regression'] = round(mape, 3)"
      ],
      "metadata": {
        "id": "3HjDMLp8Ujje"
      },
      "execution_count": 245,
      "outputs": []
    },
    {
      "cell_type": "markdown",
      "source": [
        "#### Regressão por Aumento Gradiente"
      ],
      "metadata": {
        "id": "gVVbzlZdZikb"
      }
    },
    {
      "cell_type": "code",
      "source": [
        "gradient_boosting_regressor = GradientBoostingRegressor(n_estimators=100, random_state=23)\n",
        "gradient_boosting_regressor.fit(X_train, y_train)\n",
        "\n",
        "y_pred = gradient_boosting_regressor.predict(X_test)\n",
        "\n",
        "mse = mean_squared_error(y_test, y_pred)\n",
        "rmse = np.sqrt(mse)\n",
        "r2_value = r2_score(y_test, y_pred)\n",
        "mape = calculate_mape(y_test, y_pred)\n",
        "\n",
        "model_rmse['Gradient Boosting Regression'] = round(rmse, 3)\n",
        "model_r2['Gradient Boosting Regression'] = round(r2_value, 3)\n",
        "model_mape['Gradient Boosting Regression'] = round(mape, 3)"
      ],
      "metadata": {
        "id": "hnmMm2GsVBtr"
      },
      "execution_count": 246,
      "outputs": []
    },
    {
      "cell_type": "markdown",
      "source": [
        "#### Resultados dos modelos de regressão\n",
        "\n",
        "Agora olharemos os resultados dos modelos de regressão em forma de tabela"
      ],
      "metadata": {
        "id": "HBxz3ck5jsiX"
      }
    },
    {
      "cell_type": "code",
      "source": [
        "from tabulate import tabulate\n",
        "table = []\n",
        "table.append(['S.No.', 'Regression Model', 'Root Mean Squared Error', 'Mean Absolute Percentage Error', 'R-squared'])\n",
        "count = 1\n",
        "\n",
        "for model in model_rmse:\n",
        "    row = [count, model, model_rmse[model], model_mape[model], model_r2[model]]\n",
        "    table.append(row)\n",
        "    count += 1\n",
        "\n",
        "print(tabulate(table, headers = 'firstrow', tablefmt = 'fancy_grid'))"
      ],
      "metadata": {
        "colab": {
          "base_uri": "https://localhost:8080/"
        },
        "id": "9o-4t3bjWOMq",
        "outputId": "6892f9ce-b00f-4f92-b65b-35da2a697a04"
      },
      "execution_count": 247,
      "outputs": [
        {
          "output_type": "stream",
          "name": "stdout",
          "text": [
            "╒═════════╤══════════════════════════════╤═══════════════════════════╤══════════════════════════════════╤═════════════╕\n",
            "│   S.No. │ Regression Model             │   Root Mean Squared Error │   Mean Absolute Percentage Error │   R-squared │\n",
            "╞═════════╪══════════════════════════════╪═══════════════════════════╪══════════════════════════════════╪═════════════╡\n",
            "│       1 │ Multi Linear Regression      │                   4955.23 │                           39.017 │       0.762 │\n",
            "├─────────┼──────────────────────────────┼───────────────────────────┼──────────────────────────────────┼─────────────┤\n",
            "│       2 │ Decision Tree Regression     │                   5680.47 │                           35.61  │       0.687 │\n",
            "├─────────┼──────────────────────────────┼───────────────────────────┼──────────────────────────────────┼─────────────┤\n",
            "│       3 │ Random Forest Regression     │                   4453.52 │                           31.66  │       0.808 │\n",
            "├─────────┼──────────────────────────────┼───────────────────────────┼──────────────────────────────────┼─────────────┤\n",
            "│       4 │ XGBoost Regression           │                   4925.13 │                           39.124 │       0.765 │\n",
            "├─────────┼──────────────────────────────┼───────────────────────────┼──────────────────────────────────┼─────────────┤\n",
            "│       5 │ Gradient Boosting Regression │                   4269.24 │                           29.81  │       0.823 │\n",
            "╘═════════╧══════════════════════════════╧═══════════════════════════╧══════════════════════════════════╧═════════════╛\n"
          ]
        }
      ]
    },
    {
      "cell_type": "code",
      "source": [
        "g=plt.plot(y_test - y_pred, marker='o', linestyle='')"
      ],
      "metadata": {
        "colab": {
          "base_uri": "https://localhost:8080/",
          "height": 430
        },
        "id": "oDxAxV-phSs7",
        "outputId": "26585c9a-a289-4bce-9a2c-d00294e267cd"
      },
      "execution_count": 248,
      "outputs": [
        {
          "output_type": "display_data",
          "data": {
            "text/plain": [
              "<Figure size 640x480 with 1 Axes>"
            ],
            "image/png": "[encoded data removed]"
          },
          "metadata": {}
        }
      ]
    },
    {
      "cell_type": "markdown",
      "source": [
        "Podemos ver a diferença entre os valores reais e de predição no gráfico acime, em alguns casos temos um erro de mais de 20mil e em outros casos de -10mil.\n",
        "\n",
        "Porém conseguimos visualizar a uma linha bem próxima do valor 0, tendo acertado a maior parte das predições."
      ],
      "metadata": {
        "id": "44qCxcKMlLRY"
      }
    },
    {
      "cell_type": "markdown",
      "source": [
        "# Resultados\n",
        "\n",
        "Como podemos notar o modelo de regressão que teve o melhor desempenho foi o Gradient Boosting apresentando um RMSE de 4269.24 e um R2 de 0.823\n",
        "\n",
        "Também podemos tirar como insight desse projeto:\n",
        "\n",
        " - Pessoas com IMC mais alto normalmente também são fumantes;\n",
        " - Pessoas com maior número de filhos são minoria na busca por plano de saúde, talvez devido ao aumento de custo;\n"
      ],
      "metadata": {
        "id": "WP7KpLlqbh2N"
      }
    }
  ]
}